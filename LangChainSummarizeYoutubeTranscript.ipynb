{
  "nbformat": 4,
  "nbformat_minor": 0,
  "metadata": {
    "colab": {
      "provenance": [],
      "authorship_tag": "ABX9TyMmoN24WxC9YPbZeCUtS0+a",
      "include_colab_link": true
    },
    "kernelspec": {
      "name": "python3",
      "display_name": "Python 3"
    },
    "language_info": {
      "name": "python"
    }
  },
  "cells": [
    {
      "cell_type": "markdown",
      "metadata": {
        "id": "view-in-github",
        "colab_type": "text"
      },
      "source": [
        "<a href=\"https://colab.research.google.com/github/sugarforever/LangChainSummarizeYoutubeTranscript/blob/main/LangChainSummarizeYoutubeTranscript.ipynb\" target=\"_parent\"><img src=\"https://colab.research.google.com/assets/colab-badge.svg\" alt=\"Open In Colab\"/></a>"
      ]
    },
    {
      "cell_type": "code",
      "execution_count": null,
      "metadata": {
        "id": "hZlVnW5zvOM_"
      },
      "outputs": [],
      "source": [
        "%pip install youtube_transcript_api\n",
        "%pip install openai\n",
        "%pip install langchain\n",
        "%pip install unstructured\n",
        "%pip install tiktoken"
      ]
    },
    {
      "cell_type": "code",
      "source": [
        "from youtube_transcript_api import YouTubeTranscriptApi\n",
        "from youtube_transcript_api.formatters import TextFormatter"
      ],
      "metadata": {
        "id": "5lZp3p97vZPy"
      },
      "execution_count": null,
      "outputs": []
    },
    {
      "cell_type": "code",
      "source": [
        "transcript = YouTubeTranscriptApi.get_transcript('Xtzn5vcwd_k', languages=['zh'])\n",
        "formatter = TextFormatter()\n",
        "text_formatted = formatter.format_transcript(transcript)\n",
        "with open('transcript.txt', 'w', encoding='utf-8') as text_file:\n",
        "    text_file.write(text_formatted)"
      ],
      "metadata": {
        "id": "7XpA_I_nvb5M"
      },
      "execution_count": null,
      "outputs": []
    },
    {
      "cell_type": "code",
      "source": [
        "%cat transcript.txt"
      ],
      "metadata": {
        "id": "1VsvtekHzMuC"
      },
      "execution_count": null,
      "outputs": []
    },
    {
      "cell_type": "code",
      "source": [
        "from langchain.document_loaders import TextLoader"
      ],
      "metadata": {
        "id": "icFv_0W9z6j0"
      },
      "execution_count": null,
      "outputs": []
    },
    {
      "cell_type": "code",
      "source": [
        "loader = TextLoader(\"./transcript.txt\")\n",
        "docs = loader.load()"
      ],
      "metadata": {
        "id": "gY5V-EjU0Mr9"
      },
      "execution_count": null,
      "outputs": []
    },
    {
      "cell_type": "code",
      "source": [
        "print (f'You have {len(docs)} document(s) in your data')\n",
        "print (f'There are {len(docs[0].page_content)} characters in your document')"
      ],
      "metadata": {
        "id": "kFo5_CKF0WhH"
      },
      "execution_count": null,
      "outputs": []
    },
    {
      "cell_type": "code",
      "source": [
        "from langchain.text_splitter import RecursiveCharacterTextSplitter\n",
        "\n",
        "text_splitter = RecursiveCharacterTextSplitter(chunk_size=1000, chunk_overlap=0)\n",
        "split_docs = text_splitter.split_documents(docs)"
      ],
      "metadata": {
        "id": "kfgCPKjT0bIS"
      },
      "execution_count": null,
      "outputs": []
    },
    {
      "cell_type": "code",
      "source": [
        "print (f'You have {len(split_docs)} split document(s)')"
      ],
      "metadata": {
        "id": "mZViCJ3V0uFn"
      },
      "execution_count": null,
      "outputs": []
    },
    {
      "cell_type": "code",
      "source": [
        "OPENAI_API_KEY = ''"
      ],
      "metadata": {
        "id": "YdDLU0GS0fmp"
      },
      "execution_count": null,
      "outputs": []
    },
    {
      "cell_type": "code",
      "source": [
        "from langchain.llms import OpenAI\n",
        "from langchain.chains.summarize import load_summarize_chain"
      ],
      "metadata": {
        "id": "EAWhbUfQ0jdk"
      },
      "execution_count": null,
      "outputs": []
    },
    {
      "cell_type": "code",
      "source": [
        "llm = OpenAI(temperature=0, openai_api_key=OPENAI_API_KEY)\n",
        "chain = load_summarize_chain(llm, chain_type=\"map_reduce\", verbose=True)"
      ],
      "metadata": {
        "id": "6W6Nm5ZV0mSu"
      },
      "execution_count": null,
      "outputs": []
    },
    {
      "cell_type": "code",
      "source": [
        "input_docs = split_docs"
      ],
      "metadata": {
        "id": "KLmvBohG01cY"
      },
      "execution_count": null,
      "outputs": []
    },
    {
      "cell_type": "code",
      "source": [
        "chain.run(input_documents=input_docs)"
      ],
      "metadata": {
        "id": "YnVBRIIl03X5"
      },
      "execution_count": null,
      "outputs": []
    }
  ]
}
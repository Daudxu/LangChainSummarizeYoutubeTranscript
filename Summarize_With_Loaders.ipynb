{
  "cells": [
    {
      "cell_type": "markdown",
      "metadata": {
        "colab_type": "text",
        "id": "view-in-github"
      },
      "source": [
        "<a href=\"https://colab.research.google.com/github/sugarforever/LangChainSummarizeYoutubeTranscript/blob/main/LangChainSummarizeYoutubeTranscript.ipynb\" target=\"_parent\"><img src=\"https://colab.research.google.com/assets/colab-badge.svg\" alt=\"Open In Colab\"/></a>"
      ]
    },
    {
      "cell_type": "code",
      "execution_count": null,
      "metadata": {
        "id": "hZlVnW5zvOM_"
      },
      "outputs": [],
      "source": [
        "%pip install openai\n",
        "%pip install langchain==0.0.139\n",
        "%pip install unstructured\n",
        "%pip install tiktoken"
      ]
    },
    {
      "cell_type": "code",
      "execution_count": null,
      "metadata": {
        "id": "5lZp3p97vZPy"
      },
      "outputs": [],
      "source": [
        "import os\n",
        "from langchain.document_loaders import UnstructuredURLLoader, UnstructuredPowerPointLoader, ReadTheDocsLoader, PyPDFLoader\n",
        "from langchain.llms import OpenAI\n",
        "from langchain.chains.summarize import load_summarize_chain\n",
        "from langchain.callbacks import get_openai_callback\n",
        "from langchain.text_splitter import RecursiveCharacterTextSplitter"
      ]
    },
    {
      "cell_type": "code",
      "execution_count": null,
      "metadata": {},
      "outputs": [],
      "source": [
        "def summarize_docs(docs, doc_url):\n",
        "    print (f'You have {len(docs)} document(s) in your {doc_url} data')\n",
        "    print (f'There are {len(docs[0].page_content)} characters in your document')\n",
        "\n",
        "    text_splitter = RecursiveCharacterTextSplitter(chunk_size=1000, chunk_overlap=0)\n",
        "    split_docs = text_splitter.split_documents(docs)\n",
        "\n",
        "    print (f'You have {len(split_docs)} split document(s)')\n",
        "\n",
        "    OPENAI_API_KEY = os.environ['OPENAI_API_KEY']\n",
        "    llm = OpenAI(temperature=0, openai_api_key=OPENAI_API_KEY, model_name=\"text-davinci-003\")\n",
        "    chain = load_summarize_chain(llm, chain_type=\"map_reduce\", verbose=False)\n",
        "\n",
        "    response = \"\"\n",
        "    with get_openai_callback() as cb:\n",
        "        response = chain.run(input_documents=split_docs)\n",
        "        print(f\"Total Tokens: {cb.total_tokens}\")\n",
        "        print(f\"Prompt Tokens: {cb.prompt_tokens}\")\n",
        "        print(f\"Completion Tokens: {cb.completion_tokens}\")\n",
        "        print(f\"Successful Requests: {cb.successful_requests}\")\n",
        "        print(f\"Total Cost (USD): ${cb.total_cost}\")\n",
        "\n",
        "    return response"
      ]
    },
    {
      "attachments": {},
      "cell_type": "markdown",
      "metadata": {},
      "source": [
        "1. Load a web page by its URL and get its content summarized."
      ]
    },
    {
      "cell_type": "code",
      "execution_count": null,
      "metadata": {},
      "outputs": [],
      "source": [
        "url = \"https://edition.cnn.com/2023/04/13/business/delta-earnings/index.html\"\n",
        "summarize_docs(UnstructuredURLLoader(urls = [url]).load(), url)"
      ]
    },
    {
      "attachments": {},
      "cell_type": "markdown",
      "metadata": {},
      "source": [
        "2. Load PowerPoint file and get its content summarized."
      ]
    },
    {
      "cell_type": "code",
      "execution_count": null,
      "metadata": {},
      "outputs": [],
      "source": [
        "\n",
        "!wget \"https://github.com/tomw1808/truffle_eth_class2/blob/master/s08/Web3-intro.pptx?raw=true\" -O Web3-intro.pptx"
      ]
    },
    {
      "cell_type": "code",
      "execution_count": null,
      "metadata": {},
      "outputs": [],
      "source": [
        "loader = UnstructuredPowerPointLoader(\"Web3-intro.pptx\")\n",
        "response = summarize_docs(loader.load(), \"Web3-intro.pptx\")\n",
        "print(response)"
      ]
    },
    {
      "attachments": {},
      "cell_type": "markdown",
      "metadata": {},
      "source": [
        "3. Load readthedocs project and get its content summarized."
      ]
    },
    {
      "cell_type": "code",
      "execution_count": null,
      "metadata": {},
      "outputs": [],
      "source": [
        "!wget -r -A.html -P langchain \"https://langchain.readthedocs.io/en/latest/\""
      ]
    },
    {
      "cell_type": "code",
      "execution_count": null,
      "metadata": {},
      "outputs": [],
      "source": [
        "loader = ReadTheDocsLoader(\"langchain\")\n",
        "summarize_docs(loader.load(), \"langchain\")"
      ]
    },
    {
      "attachments": {},
      "cell_type": "markdown",
      "metadata": {},
      "source": [
        "4. Load PDF file by URL and get its content summarized."
      ]
    },
    {
      "cell_type": "code",
      "execution_count": null,
      "metadata": {},
      "outputs": [],
      "source": [
        "!wget \"https://ir.tesla.com/_flysystem/s3/sec/000095017023001409/tsla-20221231-gen.pdf\" -O tsla-20221231-gen.pdf"
      ]
    },
    {
      "cell_type": "code",
      "execution_count": null,
      "metadata": {},
      "outputs": [],
      "source": [
        "%pip install pypdf"
      ]
    },
    {
      "cell_type": "code",
      "execution_count": null,
      "metadata": {},
      "outputs": [],
      "source": [
        "loader = PyPDFLoader(\"tsla-20221231-gen.pdf\")\n",
        "pages = loader.load_and_split()\n",
        "summarize_docs(pages[:10], \"tsla-20221231-gen.pdf\")"
      ]
    }
  ],
  "metadata": {
    "colab": {
      "authorship_tag": "ABX9TyMmoN24WxC9YPbZeCUtS0+a",
      "include_colab_link": true,
      "provenance": []
    },
    "kernelspec": {
      "display_name": "Python 3",
      "name": "python3"
    },
    "language_info": {
      "codemirror_mode": {
        "name": "ipython",
        "version": 3
      },
      "file_extension": ".py",
      "mimetype": "text/x-python",
      "name": "python",
      "nbconvert_exporter": "python",
      "pygments_lexer": "ipython3",
      "version": "3.9.16"
    }
  },
  "nbformat": 4,
  "nbformat_minor": 0
}
